{
 "cells": [
  {
   "cell_type": "code",
   "execution_count": 4,
   "metadata": {},
   "outputs": [
    {
     "name": "stdout",
     "output_type": "stream",
     "text": [
      "55\n",
      "1\n",
      "2\n",
      "3\n",
      "4\n",
      "5\n",
      "6\n",
      "7\n",
      "8\n",
      "9\n",
      "10\n"
     ]
    }
   ],
   "source": [
    "#List\n",
    "l=[1,2,3,4,5,6,7,8,9,10]\n",
    "print(sum(l))\n",
    "for i in range(len(l)):\n",
    "    print(l[i])\n"
   ]
  },
  {
   "cell_type": "code",
   "execution_count": 11,
   "metadata": {},
   "outputs": [
    {
     "name": "stdout",
     "output_type": "stream",
     "text": [
      "('Apple', 'Orange', 'Bananna', 'PineApple', 'Staberry')\n",
      "('Staberry', 'PineApple', 'Bananna', 'Orange', 'Apple')\n"
     ]
    }
   ],
   "source": [
    "#Tuple\n",
    "t=(\"Apple\",\"Orange\",\"Bananna\",\"PineApple\",\"Staberry\")\n",
    "print(t)\n",
    "print(t[-1::-1])"
   ]
  },
  {
   "cell_type": "code",
   "execution_count": 15,
   "metadata": {},
   "outputs": [
    {
     "name": "stdout",
     "output_type": "stream",
     "text": [
      "{'Vamsi': 'A', 'Vasu': 'B', 'Sai': 'A'}\n",
      "{'Vamsi': 'A', 'Vasu': 'B', 'Sai': 'A', 'Sunitha': 'B'}\n",
      "{'Vamsi': 'A', 'Vasu': 'B', 'Sai': 'A+', 'Sunitha': 'B'}\n"
     ]
    }
   ],
   "source": [
    "#Dictonary\n",
    "d={\"Vamsi\":'A',\"Vasu\":'B',\"Sai\":'A'}\n",
    "print(d)\n",
    "d[\"Sunitha\"]='B'\n",
    "print(d)\n",
    "d[\"Sai\"]='A+'\n",
    "print(d)"
   ]
  },
  {
   "cell_type": "code",
   "execution_count": 1,
   "metadata": {},
   "outputs": [
    {
     "name": "stdout",
     "output_type": "stream",
     "text": [
      "[1, 2, 3, 4, 1, 2, 6, 7, 8]\n",
      "{1, 2, 3, 4, 6, 7, 8}\n"
     ]
    }
   ],
   "source": [
    "l=[1,2,3,4,1,2,6,7,8]\n",
    "s=set(l)\n",
    "print(l)\n",
    "print(s)"
   ]
  },
  {
   "cell_type": "code",
   "execution_count": 7,
   "metadata": {},
   "outputs": [
    {
     "name": "stdout",
     "output_type": "stream",
     "text": [
      "[1, 4, 9, 16, 25, 36, 49, 64, 81, 100]\n"
     ]
    }
   ],
   "source": [
    "l=[i*i for i in range(1,11) if i<=10 ]\n",
    "print(l)\n"
   ]
  },
  {
   "cell_type": "code",
   "execution_count": 9,
   "metadata": {},
   "outputs": [
    {
     "name": "stdout",
     "output_type": "stream",
     "text": [
      "Sai\n",
      "24\n",
      "Hyderabad\n"
     ]
    }
   ],
   "source": [
    "t=(\"Sai\",24,\"Hyderabad\")\n",
    "(name,age,city)=t\n",
    "print(name)\n",
    "print(age)\n",
    "print(city)"
   ]
  },
  {
   "cell_type": "code",
   "execution_count": 14,
   "metadata": {},
   "outputs": [
    {
     "name": "stdout",
     "output_type": "stream",
     "text": [
      "{'Vamsi': 'A+', 'Vasu': 'B', 'Sai': 'B+'}\n"
     ]
    }
   ],
   "source": [
    "l=[(\"Vamsi\",\"A+\"),(\"Vasu\",\"B\"),(\"Sai\",\"B+\")]\n",
    "d=dict(l)\n",
    "print(d)"
   ]
  },
  {
   "cell_type": "code",
   "execution_count": 32,
   "metadata": {},
   "outputs": [
    {
     "name": "stdout",
     "output_type": "stream",
     "text": [
      "{3}\n",
      "{1, 3, 5, 6, 8, 9, 10, 12}\n"
     ]
    }
   ],
   "source": [
    "s1={1,3,5,6}\n",
    "s2={8,9,10,12,3}\n",
    "u=s1|s2\n",
    "i=s1&s2\n",
    "print(i)\n",
    "print(u)\n",
    "\n"
   ]
  },
  {
   "cell_type": "code",
   "execution_count": 40,
   "metadata": {},
   "outputs": [
    {
     "name": "stdout",
     "output_type": "stream",
     "text": [
      "Vamsi {'Telugu': 90, 'English': 89, 'Maths': 100}\n",
      "Sai {'Telugu': 50, 'English': 80, 'Maths': 80}\n",
      "Suneetha {'Telugu': 100, 'English': 89, 'Maths': 70}\n"
     ]
    }
   ],
   "source": [
    "classroom={\"Vamsi\":{\"Telugu\":90,\"English\":89,\"Maths\":100},\n",
    "           \"Sai\":{\"Telugu\":50,\"English\":80,\"Maths\":80},\n",
    "           \"Suneetha\":{\"Telugu\":100,\"English\":89,\"Maths\":70}}\n",
    "for k,v in classroom.items():\n",
    "    print(k,v)"
   ]
  }
 ],
 "metadata": {
  "kernelspec": {
   "display_name": "Python 3",
   "language": "python",
   "name": "python3"
  },
  "language_info": {
   "codemirror_mode": {
    "name": "ipython",
    "version": 3
   },
   "file_extension": ".py",
   "mimetype": "text/x-python",
   "name": "python",
   "nbconvert_exporter": "python",
   "pygments_lexer": "ipython3",
   "version": "3.12.5"
  }
 },
 "nbformat": 4,
 "nbformat_minor": 2
}
